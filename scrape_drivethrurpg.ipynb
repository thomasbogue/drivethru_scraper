{
 "cells": [
  {
   "cell_type": "code",
   "execution_count": 1,
   "id": "2510474b",
   "metadata": {},
   "outputs": [],
   "source": [
    "import pandas\n",
    "import splinter\n",
    "from bs4 import BeautifulSoup\n",
    "import time\n",
    "import selenium"
   ]
  },
  {
   "cell_type": "code",
   "execution_count": 2,
   "id": "fc42fb29",
   "metadata": {},
   "outputs": [],
   "source": [
    "url = 'https://www.drivethrurpg.com/en/browse?ruleSystem=44826'"
   ]
  },
  {
   "cell_type": "code",
   "execution_count": 3,
   "id": "a352e87f",
   "metadata": {},
   "outputs": [],
   "source": [
    "# from selenium.webdriver.common.keys import Keys\n",
    "# from selenium.webdriver.common.by import By\n",
    "# #browser = splinter.Browser()\n",
    "# browser = selenium.webdriver.Chrome()\n",
    "# browser.get(url)\n",
    "# time.sleep(3)\n",
    "# browser.execute_script(\"window.scrollTo(0, document.body.scrollHeight);\")\n",
    "# time.sleep(2)\n",
    "# browser.execute_script(\"window.scrollTo(0, document.body.scrollHeight);\")\n",
    "# soup = BeautifulSoup(browser.page_source, parser=\"html\")\n",
    "# browser.quit()"
   ]
  },
  {
   "cell_type": "code",
   "execution_count": 4,
   "id": "b28e3312",
   "metadata": {},
   "outputs": [],
   "source": [
    "\n",
    "browser = splinter.Browser()\n",
    "browser.visit(url)\n",
    "time.sleep(3)\n",
    "browser.execute_script(\"window.scrollTo(0, document.body.scrollHeight);\")\n",
    "time.sleep(2)\n",
    "browser.execute_script(\"window.scrollTo(0, document.body.scrollHeight);\")\n",
    "soup = BeautifulSoup(browser.html, parser=\"html\")\n",
    "browser.quit()"
   ]
  },
  {
   "cell_type": "code",
   "execution_count": 5,
   "id": "bf304c59",
   "metadata": {},
   "outputs": [],
   "source": [
    "divs = soup.find_all(\"div\", class_=\"title-strip-carousel-titles-list\")\n",
    "# the newest div is the second title-strip\n",
    "div = divs[1]"
   ]
  },
  {
   "cell_type": "code",
   "execution_count": 6,
   "id": "52b355ef",
   "metadata": {},
   "outputs": [
    {
     "name": "stdout",
     "output_type": "stream",
     "text": [
      "/en/product/480148/world-cartographic-world-map-design-templates?src=newest_recent\n",
      "/en/product/480025/eldritch-maps-the-forest-altar?src=newest_recent\n",
      "/en/product/479931/europa-theater-bundle?src=newest_recent\n",
      "/en/product/479847/rangers-in-campaign-6?src=newest_recent\n",
      "/en/product/479360/la-campana-del-ranger-6?src=newest_recent\n",
      "/en/product/474088/free-map-dungeon-village?src=newest_recent\n",
      "/en/product/478987/quasar-trilogy-digital-bundle?src=newest_recent\n",
      "/en/product/476224/power-outage?src=newest_recent\n"
     ]
    }
   ],
   "source": [
    "cards = div.find_all(\"obs-title-strip-card\")\n",
    "for card in cards:\n",
    "    anchor = card.find(\"a\")\n",
    "    print(anchor[\"href\"])"
   ]
  },
  {
   "cell_type": "code",
   "execution_count": 7,
   "id": "910b43fb",
   "metadata": {},
   "outputs": [],
   "source": [
    "l = soup.find(\"ul\", class_=\"list-clean\")\n",
    "for item in l.find_all(\"li\"):\n",
    "    a = item.find(\"a\", class_=\"u-dis-block\")\n",
    "    if a != None:\n",
    "        print(a['href'])"
   ]
  },
  {
   "cell_type": "code",
   "execution_count": 8,
   "id": "ddec7e34",
   "metadata": {},
   "outputs": [],
   "source": [
    "def match_attr(tag):\n",
    "    return tag.name == \"ul\" and tag['class'] == ['list-clean'] and not (\"_ngcontent-serverapp-c1510817403\" in tag.attrs)"
   ]
  },
  {
   "cell_type": "code",
   "execution_count": 9,
   "id": "e29ee060",
   "metadata": {},
   "outputs": [],
   "source": [
    "def match_obs(tag):\n",
    "    return tag and tag.name == \"obs-result-list\" and (\"_nghost-serverapp-c1510817403\" in tag.attrs)"
   ]
  },
  {
   "cell_type": "code",
   "execution_count": 12,
   "id": "dbc08ebe",
   "metadata": {},
   "outputs": [
    {
     "name": "stdout",
     "output_type": "stream",
     "text": [
      "/en/product/370454/runequest-starter-set\n",
      "/en/product/475104/going-underground-rivers-of-london-rpg-scenario\n",
      "/en/product/469816/call-of-cthulhu-arkham\n",
      "/en/product/260810/call-of-cthulhu-starter-set\n",
      "/en/product/431991/basic-roleplaying-universal-game-engine\n",
      "/en/product/462154/heinrich-s-call-of-cthulhu-guide-to-carcosa\n",
      "/en/product/476836/alone-against-nyarlathotep\n",
      "/en/product/476571/kane-s-tone\n",
      "/en/product/446091/japan-empire-of-shadows-a-call-of-cthulhu-sourcebook-for-1920s-imperial-japan\n",
      "/en/product/476224/power-outage\n",
      "/en/product/391974/viral-a-modern-call-of-cthulhu-scenario\n",
      "/en/product/461171/alone-against-the-static\n",
      "/en/product/480227/the-million-flavoured-ones\n",
      "/en/product/418884/the-comae-engine\n",
      "/en/product/476312/in-darkness-we-wait\n",
      "/en/product/385006/korean\n",
      "/en/product/468943/book-of-schemes\n",
      "/en/product/191475/mythras\n",
      "/en/product/24384/basic-roleplaying\n",
      "/en/product/386943/korean-the-world-of-cliche\n",
      "/en/product/365897/korean-100-chronicle-of-100-hours\n",
      "/en/product/478643/the-oracle-of-yuggoth\n",
      "/en/product/150997/call-of-cthulhu-7th-edition-keeper-s-rulebook\n",
      "/en/product/479225/flash-cthulhu-sell-yourself\n",
      "/en/product/220315/the-dare\n",
      "/en/product/431267/swamp-song-a-1920s-scenario-for-call-of-cthulhu\n",
      "/en/product/363894/korean\n",
      "/en/product/442567/signal-to-noise-a-1980s-analog-horror-scenario\n"
     ]
    }
   ],
   "source": [
    "urls = []\n",
    "obs = soup.find(match_obs)\n",
    "ul = obs.find(\"ul\", class_=\"list-clean\")\n",
    "lis = ul.find_all(\"li\")\n",
    "for li in lis:\n",
    "    a = li.find(\"a\")\n",
    "    if 'href' in a.attrs:\n",
    "        urls.append(\"https://www.drivethrurpg.com\" + a['href'])\n",
    "        print(a['href'])"
   ]
  },
  {
   "cell_type": "code",
   "execution_count": 83,
   "id": "26c1f96f",
   "metadata": {},
   "outputs": [
    {
     "name": "stdout",
     "output_type": "stream",
     "text": [
      "visiting https://www.drivethrurpg.com/en/product/370454/runequest-starter-set\n",
      "visiting https://www.drivethrurpg.com/en/product/475104/going-underground-rivers-of-london-rpg-scenario\n"
     ]
    },
    {
     "data": {
      "text/plain": [
       "[{'title': 'RuneQuest Starter Set',\n",
       "  'page_count': 180,\n",
       "  'products': [{'product': 'PDF', 'price': 14.99}],\n",
       "  'published_date': '11/10/21',\n",
       "  'format': 'PDF',\n",
       "  'authors': ['Greg Stafford', 'Jeff Richard', 'Jason Durall'],\n",
       "  'artists': ['Ossi Hiekkala',\n",
       "   'Andrey Fetisov',\n",
       "   'Jon Hodgson',\n",
       "   'Kalin Kadiev',\n",
       "   'Roman Kisyov',\n",
       "   'Michelle Lockamy',\n",
       "   'Jan Pospisil',\n",
       "   'Scott Purdy',\n",
       "   'Naomi Robinson',\n",
       "   'Simon Roy',\n",
       "   'Chris Waller',\n",
       "   'Jon Hodgson',\n",
       "   'Scott Purdy',\n",
       "   'Roman Kisyov',\n",
       "   'Dimitrina Angelska'],\n",
       "  'system': 'RuneQuest, BRP (Basic Roleplaying)',\n",
       "  'modified_date': 'Nov 9, 2021'},\n",
       " {'title': 'Going Underground - Rivers of London RPG Scenario',\n",
       "  'page_count': 40,\n",
       "  'products': [{'product': 'PDF', 'price': 6.99},\n",
       "   {'product': 'Softcover, Premium Color Book (8.25\" x 10.75\")',\n",
       "    'price': 20.99},\n",
       "   {'product': 'Softcover, Standard Color Book (8.25\" x 10.75\")',\n",
       "    'price': 14.99},\n",
       "   {'product': 'PDF + Softcover, Premium Color Book (8.25\" x 10.75\")',\n",
       "    'price': 27.98},\n",
       "   {'product': 'PDF + Softcover, Standard Color Book (8.25\" x 10.75\")',\n",
       "    'price': 21.98}],\n",
       "  'published_date': '4/19/24',\n",
       "  'format': 'PDF, Softcover, Premium Color Book',\n",
       "  'authors': ['Ben Aaronovitch', 'Lynne Hardy'],\n",
       "  'artists': ['Gary Bedell', 'Nicola Silvani'],\n",
       "  'system': 'Basic Roleplaying',\n",
       "  'modified_date': 'Apr 16, 2024'}]"
      ]
     },
     "execution_count": 83,
     "metadata": {},
     "output_type": "execute_result"
    }
   ],
   "source": [
    "browser = splinter.Browser()\n",
    "titles = []\n",
    "for page in urls[0:2]:\n",
    "    print(f\"visiting {page}\")\n",
    "    browser.visit(page)\n",
    "    soup2 = BeautifulSoup(browser.html, parser=\"html\")\n",
    "    title = soup2.find(\"h2\").text.strip()\n",
    "    page_count = int(soup2.find(\"div\", class_=\"product-detail-tile-4\").find_all(\"p\")[2].text.strip())\n",
    "    products = soup2.find(\"obs-product-format-options\").find_all(\"obs-product-format-option-selection-tile\")\n",
    "    product_dicts = []\n",
    "    for product in products:\n",
    "        product_name = product.find(\"p\", class_=\"product-tile-text-highlight\").text.strip()\n",
    "        price = float(product.find_all(\"p\", class_=\"product-tile-text-highlight\")[-1].text.strip().replace(\"$\",\"\"))\n",
    "        product_dicts.append({\"product\":product_name, \"price\":price})\n",
    "    published_date = soup2.find(\"div\", class_=\"product-detail-tile-5\").find(\"p\", class_=\"u-text-bold\").text.strip()\n",
    "    format = soup2.find(\"p\", attrs={\"data-codeid\":\"format\"}).parent.next_sibling.find('p').text.strip()\n",
    "    author_block = soup2.find(\"obs-publisher-or-creators\", listonly=\"authors\")\n",
    "    authors = []\n",
    "    for a in author_block.find_all(\"a\"):\n",
    "        authors.append(a.text.strip().replace(\",\", \"\"))\n",
    "    artist_block = soup2.find(\"obs-publisher-or-creators\", listonly=\"artists\")\n",
    "    artists = []\n",
    "    for a in artist_block.find_all(\"a\"):\n",
    "        artists.append(a.text.strip().replace(\",\", \"\"))\n",
    "    system = soup2.find(\"p\", attrs={\"data-codeid\":\"ruleSystem\"}).parent.next_sibling.find(\"p\").text.strip()\n",
    "    modified_date = soup2.find(\"p\", attrs={\"data-codeid\":\"dateModified\"}).parent.next_sibling.find(\"p\").text.strip()\n",
    "    titles.append({\n",
    "        \"title\":title,\n",
    "        \"page_count\":page_count,\n",
    "        \"products\":product_dicts,\n",
    "        \"published_date\":published_date,\n",
    "        \"format\":format,\n",
    "        \"authors\":authors,\n",
    "        \"artists\":artists,\n",
    "        \"system\":system,\n",
    "        \"modified_date\":modified_date\n",
    "    })\n",
    "browser.quit()\n",
    "titles"
   ]
  },
  {
   "cell_type": "code",
   "execution_count": null,
   "id": "a4572f01",
   "metadata": {},
   "outputs": [],
   "source": []
  }
 ],
 "metadata": {
  "kernelspec": {
   "display_name": "Python 3 (ipykernel)",
   "language": "python",
   "name": "python3"
  },
  "language_info": {
   "codemirror_mode": {
    "name": "ipython",
    "version": 3
   },
   "file_extension": ".py",
   "mimetype": "text/x-python",
   "name": "python",
   "nbconvert_exporter": "python",
   "pygments_lexer": "ipython3",
   "version": "3.10.12"
  }
 },
 "nbformat": 4,
 "nbformat_minor": 5
}
