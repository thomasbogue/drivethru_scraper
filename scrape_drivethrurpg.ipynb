{
 "cells": [
  {
   "cell_type": "code",
   "execution_count": 1,
   "id": "193d6f34",
   "metadata": {},
   "outputs": [],
   "source": [
    "import pandas\n",
    "import splinter\n",
    "from bs4 import BeautifulSoup\n",
    "import time\n",
    "import selenium"
   ]
  },
  {
   "cell_type": "code",
   "execution_count": 2,
   "id": "8422b688",
   "metadata": {},
   "outputs": [],
   "source": [
    "url = 'https://www.drivethrurpg.com/en/browse?ruleSystem=44826'"
   ]
  },
  {
   "cell_type": "code",
   "execution_count": 3,
   "id": "5e5b3ae8",
   "metadata": {},
   "outputs": [],
   "source": [
    "# from selenium.webdriver.common.keys import Keys\n",
    "# from selenium.webdriver.common.by import By\n",
    "# #browser = splinter.Browser()\n",
    "# browser = selenium.webdriver.Chrome()\n",
    "# browser.get(url)\n",
    "# time.sleep(3)\n",
    "# browser.execute_script(\"window.scrollTo(0, document.body.scrollHeight);\")\n",
    "# time.sleep(2)\n",
    "# browser.execute_script(\"window.scrollTo(0, document.body.scrollHeight);\")\n",
    "# soup = BeautifulSoup(browser.page_source, parser=\"html\")\n",
    "# browser.quit()"
   ]
  },
  {
   "cell_type": "code",
   "execution_count": 4,
   "id": "ad1f9257",
   "metadata": {},
   "outputs": [],
   "source": [
    "\n",
    "browser = splinter.Browser()\n",
    "browser.visit(url)\n",
    "time.sleep(3)\n",
    "browser.execute_script(\"window.scrollTo(0, document.body.scrollHeight);\")\n",
    "time.sleep(2)\n",
    "browser.execute_script(\"window.scrollTo(0, document.body.scrollHeight);\")\n",
    "soup = BeautifulSoup(browser.html, parser=\"html\")\n",
    "browser.quit()"
   ]
  },
  {
   "cell_type": "code",
   "execution_count": 5,
   "id": "a6fe6d39",
   "metadata": {},
   "outputs": [],
   "source": [
    "divs = soup.find_all(\"div\", class_=\"title-strip-carousel-titles-list\")\n",
    "# the newest div is the second title-strip\n",
    "div = divs[1]"
   ]
  },
  {
   "cell_type": "code",
   "execution_count": 6,
   "id": "c218b08c",
   "metadata": {},
   "outputs": [
    {
     "name": "stdout",
     "output_type": "stream",
     "text": [
      "/en/product/480148/world-cartographic-world-map-design-templates?src=newest_recent\n",
      "/en/product/480025/eldritch-maps-the-forest-altar?src=newest_recent\n",
      "/en/product/479931/europa-theater-bundle?src=newest_recent\n",
      "/en/product/479847/rangers-in-campaign-6?src=newest_recent\n",
      "/en/product/479360/la-campana-del-ranger-6?src=newest_recent\n",
      "/en/product/474088/free-map-dungeon-village?src=newest_recent\n",
      "/en/product/478987/quasar-trilogy-digital-bundle?src=newest_recent\n",
      "/en/product/476224/power-outage?src=newest_recent\n"
     ]
    }
   ],
   "source": [
    "cards = div.find_all(\"obs-title-strip-card\")\n",
    "for card in cards:\n",
    "    anchor = card.find(\"a\")\n",
    "    print(anchor[\"href\"])"
   ]
  },
  {
   "cell_type": "code",
   "execution_count": 7,
   "id": "9c0211b4",
   "metadata": {},
   "outputs": [],
   "source": [
    "l = soup.find(\"ul\", class_=\"list-clean\")\n",
    "for item in l.find_all(\"li\"):\n",
    "    a = item.find(\"a\", class_=\"u-dis-block\")\n",
    "    if a != None:\n",
    "        print(a['href'])"
   ]
  },
  {
   "cell_type": "code",
   "execution_count": 8,
   "id": "814dec55",
   "metadata": {},
   "outputs": [],
   "source": [
    "def match_attr(tag):\n",
    "    return tag.name == \"ul\" and tag['class'] == ['list-clean'] and not (\"_ngcontent-serverapp-c1510817403\" in tag.attrs)"
   ]
  },
  {
   "cell_type": "code",
   "execution_count": 9,
   "id": "8693d65b",
   "metadata": {},
   "outputs": [],
   "source": [
    "def match_obs(tag):\n",
    "    return tag and tag.name == \"obs-result-list\" and (\"_nghost-serverapp-c1510817403\" in tag.attrs)"
   ]
  },
  {
   "cell_type": "code",
   "execution_count": 10,
   "id": "ad101b97",
   "metadata": {},
   "outputs": [
    {
     "name": "stdout",
     "output_type": "stream",
     "text": [
      "/en/product/370454/runequest-starter-set\n",
      "/en/product/475104/going-underground-rivers-of-london-rpg-scenario\n",
      "/en/product/469816/call-of-cthulhu-arkham\n",
      "/en/product/260810/call-of-cthulhu-starter-set\n",
      "/en/product/431991/basic-roleplaying-universal-game-engine\n",
      "/en/product/462154/heinrich-s-call-of-cthulhu-guide-to-carcosa\n",
      "/en/product/476836/alone-against-nyarlathotep\n",
      "/en/product/476571/kane-s-tone\n",
      "/en/product/446091/japan-empire-of-shadows-a-call-of-cthulhu-sourcebook-for-1920s-imperial-japan\n",
      "/en/product/476224/power-outage\n",
      "/en/product/391974/viral-a-modern-call-of-cthulhu-scenario\n",
      "/en/product/461171/alone-against-the-static\n",
      "/en/product/480227/the-million-flavoured-ones\n",
      "/en/product/418884/the-comae-engine\n",
      "/en/product/476312/in-darkness-we-wait\n",
      "/en/product/385006/korean\n",
      "/en/product/468943/book-of-schemes\n",
      "/en/product/191475/mythras\n",
      "/en/product/24384/basic-roleplaying\n",
      "/en/product/386943/korean-the-world-of-cliche\n",
      "/en/product/365897/korean-100-chronicle-of-100-hours\n",
      "/en/product/478643/the-oracle-of-yuggoth\n",
      "/en/product/150997/call-of-cthulhu-7th-edition-keeper-s-rulebook\n",
      "/en/product/479225/flash-cthulhu-sell-yourself\n",
      "/en/product/220315/the-dare\n",
      "/en/product/431267/swamp-song-a-1920s-scenario-for-call-of-cthulhu\n",
      "/en/product/363894/korean\n",
      "/en/product/442567/signal-to-noise-a-1980s-analog-horror-scenario\n"
     ]
    }
   ],
   "source": [
    "obs = soup.find(match_obs)\n",
    "ul = obs.find(\"ul\", class_=\"list-clean\")\n",
    "lis = ul.find_all(\"li\")\n",
    "for li in lis:\n",
    "    a = li.find(\"a\")\n",
    "    if 'href' in a.attrs:\n",
    "        print(a['href'])"
   ]
  },
  {
   "cell_type": "code",
   "execution_count": null,
   "id": "9d0753b1",
   "metadata": {},
   "outputs": [],
   "source": []
  }
 ],
 "metadata": {
  "kernelspec": {
   "display_name": "Python 3 (ipykernel)",
   "language": "python",
   "name": "python3"
  },
  "language_info": {
   "codemirror_mode": {
    "name": "ipython",
    "version": 3
   },
   "file_extension": ".py",
   "mimetype": "text/x-python",
   "name": "python",
   "nbconvert_exporter": "python",
   "pygments_lexer": "ipython3",
   "version": "3.10.12"
  }
 },
 "nbformat": 4,
 "nbformat_minor": 5
}
