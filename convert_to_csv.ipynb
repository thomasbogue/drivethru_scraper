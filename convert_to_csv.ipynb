{
 "cells": [
  {
   "cell_type": "code",
   "execution_count": 1,
   "id": "1e7968ba",
   "metadata": {},
   "outputs": [],
   "source": [
    "# converts .json to panda-focused csv\n",
    "# one-hot encodes product fields\n",
    "import pandas\n",
    "import json\n",
    "infilename = \"drivethrurpg-chaosium.json\"\n",
    "outfilename = \"drivethrurpg-chaosium.csv\""
   ]
  },
  {
   "cell_type": "code",
   "execution_count": 2,
   "id": "cdf8e898",
   "metadata": {},
   "outputs": [],
   "source": [
    "try:\n",
    "    infile = open(infilename, \"rt\")\n",
    "    titles = json.load(infile)\n",
    "except FileNotFoundError:\n",
    "    print(f\"Could not load {infilename} -- either it is not a valid file or it is not a valid json file\")\n",
    "    "
   ]
  },
  {
   "cell_type": "code",
   "execution_count": 3,
   "id": "32d5712c",
   "metadata": {},
   "outputs": [],
   "source": [
    "rows = []\n",
    "for title in titles:\n",
    "    for product in title['products']:\n",
    "       rows.append({\n",
    "           \"title\":title['title'],\n",
    "           \"url\":title['url'],\n",
    "           \"page_count\":title['page_count'],\n",
    "           \"published_date\": title['published_date'],\n",
    "           \"system\":title['system'],\n",
    "           \"modified_date\": title['modified_date'],\n",
    "           \"price\":product['price'],\n",
    "           \"softcover\":product['softcover'],\n",
    "           \"hardcover\":product['hardcover'],\n",
    "           \"premium\":product['premium'],\n",
    "           \"pdf\":product['pdf'],\n",
    "           \"color\":product['color'],\n",
    "           \"product\":product['product'],\n",
    "           \"Greg Stafford\":(\"Greg Stafford\" in title['authors']),\n",
    "           \"number of authors\": len(title['authors']),\n",
    "           \"number of artists\": len(title['artists'])\n",
    "       })\n",
    "    "
   ]
  },
  {
   "cell_type": "code",
   "execution_count": 4,
   "id": "78679d84",
   "metadata": {},
   "outputs": [],
   "source": [
    "df = pandas.DataFrame(rows)\n",
    "df.to_csv(outfilename)"
   ]
  },
  {
   "cell_type": "code",
   "execution_count": 5,
   "id": "199e32b7",
   "metadata": {},
   "outputs": [
    {
     "data": {
      "text/plain": [
       "{'title': 'RuneQuest Starter Set',\n",
       " 'url': 'https://www.drivethrurpg.com/en/product/370454/runequest-starter-set',\n",
       " 'page_count': 180,\n",
       " 'products': [{'product': 'PDF',\n",
       "   'price': 14.99,\n",
       "   'softcover': False,\n",
       "   'hardcover': False,\n",
       "   'premium': False,\n",
       "   'pdf': True,\n",
       "   'color': False}],\n",
       " 'published_date': '11/10/21',\n",
       " 'format': 'PDF',\n",
       " 'authors': ['Greg Stafford', 'Jeff Richard', 'Jason Durall'],\n",
       " 'artists': ['Ossi Hiekkala',\n",
       "  'Andrey Fetisov',\n",
       "  'Jon Hodgson',\n",
       "  'Kalin Kadiev',\n",
       "  'Roman Kisyov',\n",
       "  'Michelle Lockamy',\n",
       "  'Jan Pospisil',\n",
       "  'Scott Purdy',\n",
       "  'Naomi Robinson',\n",
       "  'Simon Roy',\n",
       "  'Chris Waller',\n",
       "  'Jon Hodgson',\n",
       "  'Scott Purdy',\n",
       "  'Roman Kisyov',\n",
       "  'Dimitrina Angelska'],\n",
       " 'system': 'RuneQuest, BRP (Basic Roleplaying)',\n",
       " 'modified_date': 'Nov 9, 2021'}"
      ]
     },
     "execution_count": 5,
     "metadata": {},
     "output_type": "execute_result"
    }
   ],
   "source": [
    "titles[0]"
   ]
  },
  {
   "cell_type": "code",
   "execution_count": null,
   "id": "70a26516",
   "metadata": {},
   "outputs": [],
   "source": []
  }
 ],
 "metadata": {
  "kernelspec": {
   "display_name": "Python 3 (ipykernel)",
   "language": "python",
   "name": "python3"
  },
  "language_info": {
   "codemirror_mode": {
    "name": "ipython",
    "version": 3
   },
   "file_extension": ".py",
   "mimetype": "text/x-python",
   "name": "python",
   "nbconvert_exporter": "python",
   "pygments_lexer": "ipython3",
   "version": "3.10.12"
  }
 },
 "nbformat": 4,
 "nbformat_minor": 5
}
