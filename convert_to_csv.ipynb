{
 "cells": [
  {
   "cell_type": "code",
   "execution_count": 1,
   "id": "6728b249",
   "metadata": {},
   "outputs": [],
   "source": [
    "# converts .json to panda-focused csv\n",
    "# one-hot encodes product fields\n",
    "import pandas\n",
    "import json\n",
    "infilename = \"drivethrurpg-chaosium.json\"\n",
    "outfilename = \"drivethrurpg-chaosium.csv\""
   ]
  },
  {
   "cell_type": "code",
   "execution_count": 2,
   "id": "692cfd13",
   "metadata": {},
   "outputs": [],
   "source": [
    "try:\n",
    "    infile = open(infilename, \"rt\")\n",
    "    titles = json.load(infile)\n",
    "except FileNotFoundError:\n",
    "    print(f\"Could not load {infilename} -- either it is not a valid file or it is not a valid json file\")\n",
    "    "
   ]
  },
  {
   "cell_type": "code",
   "execution_count": 3,
   "id": "1a8ca870",
   "metadata": {},
   "outputs": [],
   "source": [
    "rows = []\n",
    "for title in titles:\n",
    "    for product in title['products']:\n",
    "       rows.append({\n",
    "           \"title\":title['title'],\n",
    "           \"url\":title['url'],\n",
    "           \"page_count\":title['page_count'],\n",
    "           \"published_date\": title['published_date'],\n",
    "           \"system\":title['system'],\n",
    "           \"modified_date\": title['modified_date'],\n",
    "           \"price\":product['price'],\n",
    "           \"softcover\":product['softcover']*1,\n",
    "           \"hardcover\":product['hardcover']*1,\n",
    "           \"premium\":product['premium']*1,\n",
    "           \"pdf\":product['pdf']*1,\n",
    "           \"color\":product['color']*1,\n",
    "           \"product\":product['product'],\n",
    "           \"Greg Stafford\":(\"Greg Stafford\" in title['authors']),\n",
    "           \"number of authors\": len(title['authors']),\n",
    "           \"number of artists\": len(title['artists'])\n",
    "       })\n",
    "    "
   ]
  },
  {
   "cell_type": "code",
   "execution_count": 4,
   "id": "38ee8b3a",
   "metadata": {},
   "outputs": [],
   "source": [
    "df = pandas.DataFrame(rows)\n",
    "df.to_csv(outfilename, index=False)"
   ]
  },
  {
   "cell_type": "code",
   "execution_count": null,
   "id": "eebd613f",
   "metadata": {},
   "outputs": [],
   "source": []
  }
 ],
 "metadata": {
  "kernelspec": {
   "display_name": "Python 3 (ipykernel)",
   "language": "python",
   "name": "python3"
  },
  "language_info": {
   "codemirror_mode": {
    "name": "ipython",
    "version": 3
   },
   "file_extension": ".py",
   "mimetype": "text/x-python",
   "name": "python",
   "nbconvert_exporter": "python",
   "pygments_lexer": "ipython3",
   "version": "3.10.12"
  }
 },
 "nbformat": 4,
 "nbformat_minor": 5
}
