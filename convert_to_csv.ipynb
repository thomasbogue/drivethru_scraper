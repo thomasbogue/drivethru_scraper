{
 "cells": [
  {
   "cell_type": "code",
   "execution_count": 1,
   "id": "e015cc84",
   "metadata": {},
   "outputs": [],
   "source": [
    "# converts .json to panda-focused csv\n",
    "# one-hot encodes product fields\n",
    "import pandas\n",
    "import json\n",
    "infilename = \"drivethrurpg-chaosium.json\"\n",
    "outfilename = \"drivethrurpg-chaosium.csv\""
   ]
  },
  {
   "cell_type": "code",
   "execution_count": 2,
   "id": "cad56056",
   "metadata": {},
   "outputs": [],
   "source": [
    "try:\n",
    "    infile = open(infilename, \"rt\")\n",
    "    titles = json.load(infile)\n",
    "except FileNotFoundError:\n",
    "    print(f\"Could not load {infilename} -- either it is not a valid file or it is not a valid json file\")\n",
    "    "
   ]
  },
  {
   "cell_type": "code",
   "execution_count": 3,
   "id": "2d436998",
   "metadata": {},
   "outputs": [],
   "source": [
    "rows = []\n",
    "for title in titles:\n",
    "    for product in title['products']:\n",
    "       rows.append({\n",
    "           \"title\":title['title'],\n",
    "           \"url\":title['url'],\n",
    "           \"page_count\":title['page_count'],\n",
    "           \"published_date\": title['published_date'],\n",
    "           \"system\":title['system'],\n",
    "           \"modified_date\": title['modified_date'],\n",
    "           \"price\":product['price'],\n",
    "           \"softcover\":product['softcover'],\n",
    "           \"hardcover\":product['hardcover'],\n",
    "           \"premium\":product['premium'],\n",
    "           \"pdf\":product['pdf'],\n",
    "           \"color\":product['color'],\n",
    "           \"product\":product['product'],\n",
    "           \"Greg Stafford\":(\"Greg Stafford\" in title['authors']),\n",
    "           \"number of authors\": len(title['authors']),\n",
    "           \"number of artists\": len(title['artists'])\n",
    "       })\n",
    "    "
   ]
  },
  {
   "cell_type": "code",
   "execution_count": 4,
   "id": "597b2b4b",
   "metadata": {},
   "outputs": [],
   "source": [
    "df = pandas.DataFrame(rows)\n",
    "df.to_csv(outfilename)"
   ]
  },
  {
   "cell_type": "code",
   "execution_count": null,
   "id": "9d09f7fc",
   "metadata": {},
   "outputs": [],
   "source": []
  }
 ],
 "metadata": {
  "kernelspec": {
   "display_name": "Python 3 (ipykernel)",
   "language": "python",
   "name": "python3"
  },
  "language_info": {
   "codemirror_mode": {
    "name": "ipython",
    "version": 3
   },
   "file_extension": ".py",
   "mimetype": "text/x-python",
   "name": "python",
   "nbconvert_exporter": "python",
   "pygments_lexer": "ipython3",
   "version": "3.10.12"
  }
 },
 "nbformat": 4,
 "nbformat_minor": 5
}
